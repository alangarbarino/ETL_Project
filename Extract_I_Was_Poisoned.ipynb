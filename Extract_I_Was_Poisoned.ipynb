{
 "cells": [
  {
   "cell_type": "code",
   "execution_count": 37,
   "metadata": {},
   "outputs": [],
   "source": [
    "# Extract Data from iwaspoisoned.com website using web scraping.\n",
    "# Then populate the information in a MongoDB\n",
    "# (to facilitate teaming, export the MongoDB to a JSON file)"
   ]
  },
  {
   "cell_type": "code",
   "execution_count": 38,
   "metadata": {},
   "outputs": [],
   "source": [
    "# Dependencies\n",
    "import pandas as pd\n",
    "from sqlalchemy import create_engine\n",
    "from pprint import pprint\n",
    "\n",
    "from splinter import Browser\n",
    "from bs4 import BeautifulSoup\n",
    "import requests\n",
    "import pymongo"
   ]
  },
  {
   "cell_type": "code",
   "execution_count": 39,
   "metadata": {},
   "outputs": [],
   "source": [
    "# Initialize PyMongo to work with MongoDBs\n",
    "conn = 'mongodb://localhost:27017'\n",
    "client = pymongo.MongoClient(conn)"
   ]
  },
  {
   "cell_type": "code",
   "execution_count": 40,
   "metadata": {},
   "outputs": [],
   "source": [
    "# Define database and collection\n",
    "db = client.etl_db"
   ]
  },
  {
   "cell_type": "code",
   "execution_count": 41,
   "metadata": {},
   "outputs": [],
   "source": [
    "# URL of page to be scraped\n",
    "url_iwp = 'https://iwaspoisoned.com'\n",
    "\n",
    "# Retrieve page with the requests module\n",
    "response = requests.get(url_iwp)\n",
    "# Create BeautifulSoup object; parse with 'lxml'\n",
    "soup = BeautifulSoup(response.text, 'lxml')"
   ]
  },
  {
   "cell_type": "code",
   "execution_count": null,
   "metadata": {},
   "outputs": [],
   "source": []
  },
  {
   "cell_type": "code",
   "execution_count": 45,
   "metadata": {},
   "outputs": [
    {
     "name": "stdout",
     "output_type": "stream",
     "text": [
      "<div class=\"col-md-6 report-first-box\">\n",
      "<p class=\"report-date\">Feb 16 2019 12:55pm</p>\n",
      "<a href=\"https://iwaspoisoned.com/incident/churchs-chicken-east-159th-street-harvey-illinois-usa-168069#emailscroll\" title=\"Church's Chicken, East 159th Street, Harvey, Illinois, USA - Got Food Poisoning? Report it now\">\n",
      "<h3 class=\"report-box-h\">Church's Chicken, East 159th Street, Harvey, Illinois, USA</h3></a>\n",
      "<p class=\"report-tag\">Symptoms:\n",
      "                                                        Diarrhea\n",
      "                            </p>\n",
      "<p class=\"report-tag\">Report Type: Food Poisoning</p>\n",
      "</div>\n",
      ">>> Incident Date: Feb 16 2019 12:55pm\n",
      ">>> Incident Title: Church's Chicken, East 159th Street, Harvey, Illinois, USA - Got Food Poisoning? Report it now\n",
      ">>> Incident URL: https://iwaspoisoned.com/incident/churchs-chicken-east-159th-street-harvey-illinois-usa-168069#emailscroll\n",
      "----------------------------------------\n",
      ">>> Description: Only me got sick .bout he after eating\n",
      "----------------------------------------\n"
     ]
    }
   ],
   "source": [
    "# Examine the results, then determine element that contains sought info\n",
    "# results are returned as an iterable list\n",
    "results = soup.find_all('div', class_='row div-report-box')\n",
    "\n",
    "# Loop through returned results\n",
    "for r in results:\n",
    "    # Get the primary incident report info from the main box\n",
    "    main_box = r.find('div', class_='report-first-box')\n",
    "    \n",
    "    # Get the data the incident occurred\n",
    "    incident_date = main_box.find('p', class_ = 'report-date').text.strip()\n",
    "    \n",
    "    # Get the URL of the per-incident details\n",
    "    incident_url = main_box.find('a')['href']\n",
    "    incident_title = main_box.find('a')['title']\n",
    "    \n",
    "    # Get the Symptoms\n",
    "    \n",
    "    pprint(main_box)\n",
    "    print(f\">>> Incident Date: {incident_date}\")\n",
    "    print(f\">>> Incident Title: {incident_title}\")\n",
    "    print(f\">>> Incident URL: {incident_url}\")\n",
    "    print(\"-\"*40)\n",
    "    \n",
    "    # Get the full description of the incident\n",
    "    # Assume this couple be populated in multiple paragraphs\n",
    "    desc_box = r.find('div', class_='report-second-box')\n",
    "    desc_list = desc_box.find_all('p')\n",
    "    desc_info = \"\"\n",
    "    for d in desc_list:\n",
    "        desc_info += d.text.strip()\n",
    "    \n",
    "    #pprint(descbox)\n",
    "    print(f\">>> Description: {desc_info}\")\n",
    "    print(\"-\"*40)\n",
    "    break;\n",
    "#    try:\n",
    "        # Dictionary to be inserted as a MongoDB document\n",
    "        #post = {\n",
    "        #    'title': title,\n",
    "        #    'price': price,\n",
    "        #    'url': link\n",
    "        #}\n",
    "\n",
    "        #db.iwp.insert_one(post)\n",
    "\n",
    "#    except Exception as e:\n",
    "#        print(e)"
   ]
  },
  {
   "cell_type": "code",
   "execution_count": null,
   "metadata": {},
   "outputs": [],
   "source": [
    "# Display items in MongoDB collection\n",
    "listings = db.items.find()\n",
    "\n",
    "for listing in listings:\n",
    "    print(listing)"
   ]
  },
  {
   "cell_type": "code",
   "execution_count": null,
   "metadata": {},
   "outputs": [],
   "source": []
  }
 ],
 "metadata": {
  "kernelspec": {
   "display_name": "Python 3",
   "language": "python",
   "name": "python3"
  },
  "language_info": {
   "codemirror_mode": {
    "name": "ipython",
    "version": 3
   },
   "file_extension": ".py",
   "mimetype": "text/x-python",
   "name": "python",
   "nbconvert_exporter": "python",
   "pygments_lexer": "ipython3",
   "version": "3.6.6"
  }
 },
 "nbformat": 4,
 "nbformat_minor": 2
}
